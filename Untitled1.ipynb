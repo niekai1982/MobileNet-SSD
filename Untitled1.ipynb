{
 "cells": [
  {
   "cell_type": "code",
   "execution_count": 1,
   "metadata": {},
   "outputs": [],
   "source": [
    "from __future__ import print_function, absolute_import\n",
    "\n",
    "from google.protobuf import text_format\n",
    "\n",
    "import argparse\n",
    "\n",
    "import re\n",
    "\n",
    "import sys\n",
    "\n",
    "import math"
   ]
  },
  {
   "cell_type": "code",
   "execution_count": 7,
   "metadata": {},
   "outputs": [],
   "source": [
    "caffe_flag = True"
   ]
  },
  {
   "cell_type": "code",
   "execution_count": 8,
   "metadata": {},
   "outputs": [],
   "source": [
    "try:\n",
    "    import caffe\n",
    "    from caffe.proto import caffe_pb2\n",
    "except ImportError:\n",
    "    from .caffe_parse import caffe_pb2"
   ]
  },
  {
   "cell_type": "code",
   "execution_count": 10,
   "metadata": {},
   "outputs": [],
   "source": [
    "def read_proto_solver_file(file_path):\n",
    "    solver_config = ''\n",
    "    if caffe_flag:\n",
    "        solver_config = caffe.proto.caffe_pb2.NetParameter()\n",
    "    else:\n",
    "        solver_config = caffe_parse.caffe_pb2.NetParameter()\n",
    "    return read_proto_file(file_path, solver_config)"
   ]
  },
  {
   "cell_type": "code",
   "execution_count": 11,
   "metadata": {},
   "outputs": [],
   "source": [
    "def read_proto_file(file_path, parser_object):\n",
    "    file = open(file_path, \"r\")\n",
    "    if not file:\n",
    "        raise Exception(\"ERROR (\" + file_path + \")!\")\n",
    "    text_format.Merge(str(file.read()), parser_object)\n",
    "    file.close()\n",
    "    return parser_object"
   ]
  },
  {
   "cell_type": "code",
   "execution_count": null,
   "metadata": {},
   "outputs": [],
   "source": []
  }
 ],
 "metadata": {
  "kernelspec": {
   "display_name": "Python 2",
   "language": "python",
   "name": "python2"
  },
  "language_info": {
   "codemirror_mode": {
    "name": "ipython",
    "version": 2
   },
   "file_extension": ".py",
   "mimetype": "text/x-python",
   "name": "python",
   "nbconvert_exporter": "python",
   "pygments_lexer": "ipython2",
   "version": "2.7.10"
  }
 },
 "nbformat": 4,
 "nbformat_minor": 2
}
